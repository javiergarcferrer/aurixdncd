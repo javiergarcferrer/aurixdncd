{
 "cells": [
  {
   "cell_type": "code",
   "execution_count": 6,
   "metadata": {},
   "outputs": [
    {
     "name": "stdout",
     "output_type": "stream",
     "text": [
      "['República Dominicana' 'Venezuela' 'Estados Unidos' 'HOLANDA' 'Italia'\n",
      " 'Francia' 'Puerto Rico' 'España' 'Colombia' 'Bélgica' 'Haití' 'Suiza'\n",
      " 'Canadá' 'Alemania' None 'Surinam' 'México' 'Chile' 'Ecuador' 'Jamaica'\n",
      " 'Argentina' 'Perú' 'Aruba' 'Malí' 'Nigeria' 'Panamá' 'Bulgaria'\n",
      " 'Dominica' 'Grecia' 'Nicaragua' 'DOMINICANA ']\n"
     ]
    }
   ],
   "source": [
    "import pandas as pd\n",
    "import numpy as np\n",
    "\n",
    "dn = pd.read_json('dn.json')\n",
    "print(dn['nacionalidad'].unique())\n",
    "\n",
    "#Limpieza base de datos DNCD\n",
    "dn['nacionalidad'] = dn['nacionalidad'].replace(to_replace='DOMINICANA ', value=\"República Dominicana\")\n",
    "dn['nacionalidad'] = dn['nacionalidad'].replace(to_replace='HOLANDA', value=\"Holanda\") \n",
    "\n",
    "rowsTitle = ['divisione','inspectoria','seccion','apodo', 'nombre1', 'nombre2', 'apellido1', 'apellido2','sexo']\n",
    "rowsCap = ['comentarios']\n",
    "dn.fillna(\"\",inplace=True)\n",
    "\n",
    "for row in rowsTitle:\n",
    "    dn[row] = dn[row].apply(lambda x : x.strip().title())\n",
    "\n",
    "for row in rowsCap:\n",
    "    dn[row] = dn[row].apply(lambda x : x.strip().capitalize())\n",
    "\n",
    "rowsMerge = ['nombre1', 'nombre2', 'apellido1', 'apellido2']\n",
    "\n",
    "dn['nombre'] = dn[rowsMerge[0]] + \" \" + dn[rowsMerge[1]] + \" \" \\\n",
    "                + dn[rowsMerge[2]] + \" \" + dn[rowsMerge[3]]\n",
    "\n",
    "dn['nombre1'] = dn['nombre']\n",
    "dn = dn.drop(columns=['nombre','nombre2', 'apellido1', 'apellido2'])\n",
    "dn = dn.rename(columns={'nombre1': 'nombre'})\n"
   ]
  },
  {
   "cell_type": "code",
   "execution_count": 4,
   "metadata": {},
   "outputs": [
    {
     "data": {
      "text/plain": [
       "array(['República Dominicana', 'Venezuela', 'Estados Unidos', 'Holanda',\n",
       "       'Italia', 'Francia', 'Puerto Rico', 'España', 'Colombia',\n",
       "       'Bélgica', 'Haití', 'Suiza', 'Canadá', 'Alemania', '', 'Surinam',\n",
       "       'México', 'Chile', 'Ecuador', 'Jamaica', 'Argentina', 'Perú',\n",
       "       'Aruba', 'Malí', 'Nigeria', 'Panamá', 'Bulgaria', 'Dominica',\n",
       "       'Grecia', 'Nicaragua'], dtype=object)"
      ]
     },
     "execution_count": 4,
     "metadata": {},
     "output_type": "execute_result"
    }
   ],
   "source": [
    "dn['nacionalidad'].unique()"
   ]
  },
  {
   "cell_type": "code",
   "execution_count": null,
   "metadata": {},
   "outputs": [],
   "source": []
  }
 ],
 "metadata": {
  "kernelspec": {
   "display_name": "Python 3",
   "language": "python",
   "name": "python3"
  },
  "language_info": {
   "codemirror_mode": {
    "name": "ipython",
    "version": 3
   },
   "file_extension": ".py",
   "mimetype": "text/x-python",
   "name": "python",
   "nbconvert_exporter": "python",
   "pygments_lexer": "ipython3",
   "version": "3.8.5"
  }
 },
 "nbformat": 4,
 "nbformat_minor": 4
}
